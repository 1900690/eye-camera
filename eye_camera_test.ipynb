{
  "nbformat": 4,
  "nbformat_minor": 0,
  "metadata": {
    "colab": {
      "provenance": [],
      "include_colab_link": true
    },
    "kernelspec": {
      "name": "python3",
      "display_name": "Python 3"
    },
    "language_info": {
      "name": "python"
    }
  },
  "cells": [
    {
      "cell_type": "markdown",
      "metadata": {
        "id": "view-in-github",
        "colab_type": "text"
      },
      "source": [
        "<a href=\"https://colab.research.google.com/github/1900690/eye-camera/blob/main/eye_camera_test.ipynb\" target=\"_parent\"><img src=\"https://colab.research.google.com/assets/colab-badge.svg\" alt=\"Open In Colab\"/></a>"
      ]
    },
    {
      "cell_type": "code",
      "source": [
        "from google.colab import drive\n",
        "drive.mount('/content/drive')"
      ],
      "metadata": {
        "id": "EMujXpubsDHa",
        "outputId": "d7f90ad7-69d5-4ad7-fb8c-bc0ecbee23e5",
        "colab": {
          "base_uri": "https://localhost:8080/"
        }
      },
      "execution_count": 1,
      "outputs": [
        {
          "output_type": "stream",
          "name": "stdout",
          "text": [
            "Mounted at /content/drive\n"
          ]
        }
      ]
    },
    {
      "cell_type": "code",
      "source": [
        "import shutil\n",
        "name = \"選定２\"\n",
        "shutil.copy(\"/content/drive/MyDrive/budou/\"+name+\".mp4\",\"/content/\"+name+\".mp4\")\n",
        "shutil.copy(\"/content/drive/MyDrive/budou/\"+name+\".json\",\"/content/\"+name+\".json\")"
      ],
      "metadata": {
        "id": "RU8a9Ap3EQeW",
        "outputId": "6c7132f9-8fc7-4acd-d09c-1062ec5b4837",
        "colab": {
          "base_uri": "https://localhost:8080/",
          "height": 35
        }
      },
      "execution_count": 4,
      "outputs": [
        {
          "output_type": "execute_result",
          "data": {
            "text/plain": [
              "'/content/選定２.json'"
            ],
            "application/vnd.google.colaboratory.intrinsic+json": {
              "type": "string"
            }
          },
          "metadata": {},
          "execution_count": 4
        }
      ]
    },
    {
      "cell_type": "markdown",
      "source": [
        "#十字印付け"
      ],
      "metadata": {
        "id": "yojpVccNpnkN"
      }
    },
    {
      "cell_type": "code",
      "source": [
        "from pandas.core.base import doc\n",
        "import shutil\n",
        "import os\n",
        "from google.colab import files\n",
        "import pandas as pd\n",
        "from PIL import Image\n",
        "import cv2\n",
        "\n",
        "#uploaded = files.upload()\n",
        "#filename = os.path.splitext(list(uploaded.keys())[0])[0]\n",
        "filename = \"選定２\"\n",
        "\n",
        "#視線データを読み込み必要な部分を抽出\n",
        "json_file = \"/content/\"+filename+\".json\"\n",
        "df = pd.read_json(json_file)\n",
        "df2=df[\"EyeData\"].iloc[2]\n",
        "df3 = pd.json_normalize(df2)\n",
        "df6=df3[['recomValid','recomPoint.x','recomPoint.y']]\n",
        "\n",
        "# 動画ファイルのキャプチャー\n",
        "cap = cv2.VideoCapture(\"/content/\"+filename+\".mp4\")\n",
        "\n",
        "# 動画ファイルのフレームレート取得\n",
        "fps = cap.get(cv2.CAP_PROP_FPS)\n",
        "\n",
        "#動画のサイズを取得\n",
        "width = int(cap.get(cv2.CAP_PROP_FRAME_WIDTH))\n",
        "height = int(cap.get(cv2.CAP_PROP_FRAME_HEIGHT))\n",
        "size = (width,height)\n",
        "point_size=max(width,height)\n",
        "\n",
        "# 保存用動画ファイルのフォーマット設定\n",
        "fourcc = cv2.VideoWriter_fourcc('m', 'p', '4', 'v')\n",
        "out = cv2.VideoWriter(\"/content/\"+filename+\"_eye_point.mp4\", fourcc, fps, size)\n",
        "\n",
        "# 動画を1コマずつ取り込んで処理\n",
        "while(cap.isOpened()):\n",
        "    ret, frame = cap.read() # キャプチャー画像の取り込み\n",
        "\n",
        "    if ret==True: # キャプチャー画像がある場合\n",
        "        # 現在時間を取得\n",
        "        time = cap.get(cv2.CAP_PROP_POS_MSEC)\n",
        "\n",
        "        # 現在のフレーム数を取得\n",
        "        frame_n = cap.get(cv2.CAP_PROP_POS_FRAMES)\n",
        "\n",
        "        # 視点を描画\n",
        "        cv2.drawMarker(frame, (int(df6.loc[int(frame_n)][1]*width),int(df6.loc[int(frame_n)][2]*height)), (0, 0, 255),cv2.MARKER_CROSS,int(point_size/10),int(point_size/100))\n",
        "        #print((int(df6.loc[int(frame_n)][1]*width),int(df6.loc[int(frame_n)][2]*height)))\n",
        "        print(frame_n)\n",
        "\n",
        "        # mp4動画を保存\n",
        "        out.write(frame)\n",
        "\n",
        "    else: # キャプチャー画像がない場合はループ終了\n",
        "        break\n",
        "\n",
        "cap.release() # 再生画像をクローズ\n",
        "out.release() # 出力動画ファイルをクローズ\n",
        "#files.download(\"/content/\"+filename+\"_eye_point.mp4\")"
      ],
      "metadata": {
        "id": "SqsU8voNWSM7"
      },
      "execution_count": null,
      "outputs": []
    },
    {
      "cell_type": "markdown",
      "source": [
        "#ヒートマップ例"
      ],
      "metadata": {
        "id": "lLUtZokk9mMt"
      }
    },
    {
      "cell_type": "code",
      "source": [
        "import cv2\n",
        "import numpy as np\n",
        "from tqdm import tqdm\n",
        "\n",
        "def GaussianMask(sizex,sizey, sigma=33, center=None,fix=1):\n",
        "    \"\"\"\n",
        "    sizex  : mask width\n",
        "    sizey  : mask height\n",
        "    sigma  : gaussian Sd\n",
        "    center : gaussian mean\n",
        "    fix    : gaussian max\n",
        "    return gaussian mask\n",
        "    sizex: マスクの幅 (ピクセル数)\n",
        "    sizey: マスクの高さ (ピクセル数)\n",
        "    sigma (オプション): ガウス分布の標準偏差 (デフォルト: 33)\n",
        "    center (オプション): ガウス分布の中心座標 (x, y) のタプル (デフォルト: 画像の中心)\n",
        "    fix (オプション): マスクの最大値 (デフォルト: 1)\n",
        "    \"\"\"\n",
        "    x = np.arange(0, sizex, 1, float)\n",
        "    y = np.arange(0, sizey, 1, float)\n",
        "    x, y = np.meshgrid(x,y)\n",
        "\n",
        "    if center is None:\n",
        "        x0 = sizex // 2\n",
        "        y0 = sizey // 2\n",
        "    else:\n",
        "        if np.isnan(center[0])==False and np.isnan(center[1])==False:\n",
        "            x0 = center[0]\n",
        "            y0 = center[1]\n",
        "        else:\n",
        "            return np.zeros((sizey,sizex))\n",
        "\n",
        "    return fix*np.exp(-4*np.log(2) * ((x-x0)**2 + (y-y0)**2) / sigma**2)\n",
        "\n",
        "def Fixpos2Densemap(fix_arr, width, height, imgfile, alpha=0.5, threshold=10):\n",
        "    \"\"\"\n",
        "    fix_arr   : fixation array number of subjects x 3(x,y,fixation)\n",
        "    width     : output image width\n",
        "    height    : output image height\n",
        "    imgfile   : image file (optional)\n",
        "    alpha     : marge rate imgfile and heatmap (optional)\n",
        "    threshold : heatmap threshold(0~255)\n",
        "    return heatmap\n",
        "    fix_arr: 注視位置データの配列 (x軸とｙ軸,3列目は注視時間)\n",
        "    width: 出力画像の幅 (ピクセル数)\n",
        "    height: 出力画像の高さ (ピクセル数)\n",
        "    imgfile (オプション): 背景画像へのマージング用画像ファイルパス (デフォルト: なし)\n",
        "    alpha (オプション): 背景画像とヒートマップのマージング率 (デフォルト: 0.5)\n",
        "    threshold (オプション): ヒートマップのしきい値 (0~255、しきい値以下の画素は0に)\n",
        "    \"\"\"\n",
        "\n",
        "    heatmap = np.zeros((H,W), np.float32)\n",
        "    for n_subject in tqdm(range(fix_arr.shape[0])):\n",
        "        heatmap += GaussianMask(W, H, 33, (fix_arr[n_subject,0],fix_arr[n_subject,1]),\n",
        "                                fix_arr[n_subject,2])\n",
        "\n",
        "    # Normalization\n",
        "    heatmap = heatmap/np.amax(heatmap)\n",
        "    heatmap = heatmap*255\n",
        "    heatmap = heatmap.astype(\"uint8\")\n",
        "\n",
        "    if imgfile.any():\n",
        "        # Resize heatmap to imgfile shape\n",
        "        h, w, _ = imgfile.shape\n",
        "        heatmap = cv2.resize(heatmap, (w, h))\n",
        "        heatmap_color = cv2.applyColorMap(heatmap, cv2.COLORMAP_JET)\n",
        "\n",
        "        # Create mask\n",
        "        mask = np.where(heatmap<=threshold, 1, 0)\n",
        "        mask = np.reshape(mask, (h, w, 1))\n",
        "        mask = np.repeat(mask, 3, axis=2)\n",
        "\n",
        "        # Marge images\n",
        "        marge = imgfile*mask + heatmap_color*(1-mask)\n",
        "        marge = marge.astype(\"uint8\")\n",
        "        marge = cv2.addWeighted(imgfile, 1-alpha, marge,alpha,0)\n",
        "        return marge\n",
        "\n",
        "    else:\n",
        "        heatmap = cv2.applyColorMap(heatmap, cv2.COLORMAP_JET)\n",
        "        return heatmap\n",
        "\n",
        "if __name__ == '__main__':\n",
        "    # Load image file\n",
        "    img = cv2.imread('/content/images.jpg')\n",
        "\n",
        "    # Generate toy fixation data\n",
        "    # ★ここを自分のデータと入れ替える\n",
        "    num_subjects = 40\n",
        "    H, W, _ = img.shape\n",
        "\n",
        "    fix_arr = np.random.randn(num_subjects,3)#標準正規分布に従う乱数を生成\n",
        "    fix_arr -= fix_arr.min()\n",
        "    fix_arr /= fix_arr.max()\n",
        "    fix_arr[:,0] *= W\n",
        "    fix_arr[:,1] *= H\n",
        "\n",
        "    # Create heatmap\n",
        "    heatmap = Fixpos2Densemap(fix_arr, W, H, img, 0.7, 5)\n",
        "    cv2.imwrite(\"/content/output.png\",heatmap)"
      ],
      "metadata": {
        "id": "H9B8D_36rhYT",
        "outputId": "cf4f7435-600d-4d44-b0f9-06cba952ec63",
        "colab": {
          "base_uri": "https://localhost:8080/",
          "height": 211
        }
      },
      "execution_count": 11,
      "outputs": [
        {
          "output_type": "error",
          "ename": "IndexError",
          "evalue": "index 1 is out of bounds for axis 1 with size 1",
          "traceback": [
            "\u001b[0;31m---------------------------------------------------------------------------\u001b[0m",
            "\u001b[0;31mIndexError\u001b[0m                                Traceback (most recent call last)",
            "\u001b[0;32m<ipython-input-11-afacfba09051>\u001b[0m in \u001b[0;36m<cell line: 83>\u001b[0;34m()\u001b[0m\n\u001b[1;32m     94\u001b[0m     \u001b[0mfix_arr\u001b[0m \u001b[0;34m/=\u001b[0m \u001b[0mfix_arr\u001b[0m\u001b[0;34m.\u001b[0m\u001b[0mmax\u001b[0m\u001b[0;34m(\u001b[0m\u001b[0;34m)\u001b[0m\u001b[0;34m\u001b[0m\u001b[0;34m\u001b[0m\u001b[0m\n\u001b[1;32m     95\u001b[0m     \u001b[0mfix_arr\u001b[0m\u001b[0;34m[\u001b[0m\u001b[0;34m:\u001b[0m\u001b[0;34m,\u001b[0m\u001b[0;36m0\u001b[0m\u001b[0;34m]\u001b[0m \u001b[0;34m*=\u001b[0m \u001b[0mW\u001b[0m\u001b[0;34m\u001b[0m\u001b[0;34m\u001b[0m\u001b[0m\n\u001b[0;32m---> 96\u001b[0;31m     \u001b[0mfix_arr\u001b[0m\u001b[0;34m[\u001b[0m\u001b[0;34m:\u001b[0m\u001b[0;34m,\u001b[0m\u001b[0;36m1\u001b[0m\u001b[0;34m]\u001b[0m \u001b[0;34m*=\u001b[0m \u001b[0mH\u001b[0m\u001b[0;34m\u001b[0m\u001b[0;34m\u001b[0m\u001b[0m\n\u001b[0m\u001b[1;32m     97\u001b[0m \u001b[0;34m\u001b[0m\u001b[0m\n\u001b[1;32m     98\u001b[0m     \u001b[0;31m# Create heatmap\u001b[0m\u001b[0;34m\u001b[0m\u001b[0;34m\u001b[0m\u001b[0m\n",
            "\u001b[0;31mIndexError\u001b[0m: index 1 is out of bounds for axis 1 with size 1"
          ]
        }
      ]
    },
    {
      "cell_type": "code",
      "source": [
        "fix_arr"
      ],
      "metadata": {
        "id": "t_19rFHpAcZC",
        "outputId": "643f84fc-c778-4288-85e8-5a4776575b19",
        "colab": {
          "base_uri": "https://localhost:8080/"
        }
      },
      "execution_count": 10,
      "outputs": [
        {
          "output_type": "execute_result",
          "data": {
            "text/plain": [
              "array([[2.75000000e+02, 6.13208877e+01, 4.06445879e-01],\n",
              "       [1.22372065e+02, 6.58172350e+01, 5.36906548e-01],\n",
              "       [2.03653620e+02, 5.78360706e+01, 6.56212674e-01],\n",
              "       [9.72611027e+01, 5.16853474e+01, 4.02911293e-01],\n",
              "       [1.71382945e+02, 1.53797331e+02, 3.31143878e-01],\n",
              "       [9.44424179e+01, 7.45653612e+01, 4.72217747e-01],\n",
              "       [8.75821559e+01, 9.13304346e+01, 3.41051378e-01],\n",
              "       [1.55432025e+02, 6.78175887e+01, 4.35131359e-01],\n",
              "       [1.11304881e+02, 6.91457403e+01, 4.26751483e-01],\n",
              "       [1.37596951e+02, 9.06829446e+01, 1.71126211e-01],\n",
              "       [9.71119522e+01, 6.44238564e+01, 2.05711753e-01],\n",
              "       [1.52805507e+02, 6.71867151e+01, 8.04432392e-01],\n",
              "       [1.15860855e+02, 9.43069792e+01, 6.46284231e-01],\n",
              "       [1.40267947e+02, 5.55315315e+01, 5.40315785e-01],\n",
              "       [1.58389431e+02, 1.25945302e+02, 7.21420837e-01],\n",
              "       [1.63937556e+02, 4.88613269e+01, 6.64080386e-01],\n",
              "       [1.03451982e+02, 8.88537271e+01, 4.24012000e-01],\n",
              "       [1.79502249e+02, 1.16350513e+02, 4.53469302e-01],\n",
              "       [1.27684378e+02, 1.14125460e+02, 6.97059761e-01],\n",
              "       [9.58177247e+01, 8.96835655e+01, 4.69902093e-01],\n",
              "       [8.26177526e+01, 5.29144292e+01, 5.26897100e-01],\n",
              "       [1.82724209e+02, 4.96399784e+01, 2.56988633e-01],\n",
              "       [1.72532937e+02, 9.08138393e+01, 5.92947182e-01],\n",
              "       [1.52141587e+02, 0.00000000e+00, 6.79888612e-01],\n",
              "       [1.14383960e+02, 5.27768916e+01, 8.43543677e-01],\n",
              "       [1.40192460e+02, 6.35860112e+01, 5.83146087e-01],\n",
              "       [8.33669770e+01, 9.53009595e+01, 7.23840430e-01],\n",
              "       [1.42299688e+02, 7.32197601e+01, 5.53495761e-01],\n",
              "       [1.29811068e+02, 9.57651592e+01, 5.04248523e-01],\n",
              "       [8.77243222e+01, 1.05702732e+02, 6.57255630e-01],\n",
              "       [1.32743954e+02, 1.02115793e+02, 5.55918473e-01],\n",
              "       [1.30811007e+02, 7.00030012e+01, 4.74932891e-01],\n",
              "       [1.39289410e+02, 3.16415251e+01, 2.79994417e-01],\n",
              "       [1.67983625e+02, 6.96599107e+01, 4.48245004e-01],\n",
              "       [9.53750826e+01, 8.58277410e+01, 4.44297815e-01],\n",
              "       [8.57269737e+01, 9.56198328e+01, 3.78224765e-01],\n",
              "       [1.70893853e+02, 8.75981458e+01, 6.17172245e-01],\n",
              "       [1.78851660e+02, 8.21450351e+01, 8.42381359e-01],\n",
              "       [1.51362736e+02, 8.36367211e+01, 8.32829733e-01],\n",
              "       [1.17530510e+02, 1.15798519e+02, 2.91227467e-01]])"
            ]
          },
          "metadata": {},
          "execution_count": 10
        }
      ]
    }
  ]
}